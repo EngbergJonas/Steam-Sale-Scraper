{
 "cells": [
  {
   "cell_type": "markdown",
   "metadata": {},
   "source": [
    "# Steam sale!"
   ]
  },
  {
   "cell_type": "markdown",
   "metadata": {},
   "source": [
    "## Importera beatuifulsoup och urlrequest from urllib"
   ]
  },
  {
   "cell_type": "code",
   "execution_count": 863,
   "metadata": {},
   "outputs": [],
   "source": [
    "import bs4 #beautifulSoup4\n",
    "from urllib.request import urlopen as uReq #URL openmodule\n",
    "from bs4 import BeautifulSoup as soup #BS module"
   ]
  },
  {
   "cell_type": "markdown",
   "metadata": {},
   "source": [
    "## Här är mitt försök att söka upp 5 sidår\n",
    "\n",
    "### 1. Bygg urlen och parse den\n",
    "\n",
    "### 2.  Gör medsamma en filereader för att bygga upp en excell fil av all data\n",
    "\n",
    "### 3. Gör containers variabeln som är hela källkoden inom den givna containern \"div class\"\n",
    "\n",
    "### 4. Looppa igenom allting 5 gånger"
   ]
  },
  {
   "cell_type": "code",
   "execution_count": 867,
   "metadata": {},
   "outputs": [
    {
     "name": "stdout",
     "output_type": "stream",
     "text": [
      "https://store.steampowered.com/search/?specials=1&page=1\n",
      "None\n",
      "None\n",
      "None\n",
      "https://store.steampowered.com/search/?specials=1&page=2\n",
      "no discount price!\n",
      "None\n",
      "https://store.steampowered.com/search/?specials=1&page=3\n",
      "None\n",
      "None\n",
      "None\n",
      "None\n",
      "None\n",
      "None\n",
      "https://store.steampowered.com/search/?specials=1&page=4\n",
      "None\n",
      "None\n",
      "None\n",
      "None\n",
      "None\n",
      "no discount price!\n",
      "None\n",
      "None\n",
      "None\n",
      "https://store.steampowered.com/search/?specials=1&page=5\n",
      "None\n",
      "None\n",
      "None\n",
      "None\n",
      "None\n",
      "None\n",
      "None\n",
      "None\n",
      "None\n",
      "None\n"
     ]
    }
   ],
   "source": [
    "#urllib hämtar websidan och BS parsar HTML\n",
    "\n",
    "#Här använder jag en loop inne i en annan loop, min plan var att incrementera urlen med 1, men också\n",
    "#att incrementera den först efter att den hämtat allt info från den första sidan. \n",
    "\n",
    "#Spara till csv och namnge filen\n",
    "filename = \"steam.csv\"\n",
    "\n",
    "#Öppna filen i \"writemode\"\n",
    "f = open(filename, \"w\")\n",
    "\n",
    "#Gör en variabel för att fylla på första raden av excell filen\n",
    "headers = \"Title|Rating|#Reviews|Discount%|Discountprice|Originalprice|Releasedate|Windows|Linux|Mac\\n\"\n",
    "f.write(headers)\n",
    "\n",
    "for page_number in range(1, 6):\n",
    "    my_url = (\"https://store.steampowered.com/search/?specials=1&page=%(d)d\" % { 'd' : page_number}) \n",
    "    print(my_url)\n",
    "    \n",
    "    #ladda ner sidan som en klient\n",
    "    uClient = uReq(my_url)\n",
    "    page_html = uClient.read() #Dumpa rå HTML i en variabel\n",
    "    uClient.close()\n",
    "    \n",
    "    #Parse HTML\n",
    "    page_soup = soup(page_html, \"html.parser\")\n",
    "    #print(my_url)\n",
    "    \n",
    "    containers = page_soup.findAll(\"div\", {\"class\":\"responsive_search_name_combined\"})\n",
    "\n",
    "    #Looppa igenom hela source-coden \"containers\" och looppa igenom all info\n",
    "    for container in containers:\n",
    "        #Title\n",
    "        product_title = container.find(\"span\", {\"class\", \"title\"}).text\n",
    "\n",
    "        #Release date\n",
    "        product_releasedate = container.find(\"div\",  {\"class\", \"col search_released responsive_secondrow\"}).text    \n",
    "\n",
    "        #Original price\n",
    "        #Här hamnar jag ha en try & except därför att alla priser helt enkelt inte har rabatt (<strike> taggen)\n",
    "        try:\n",
    "            product_original_price = container.find(\"div\", {\"class\", \"col search_price discounted responsive_secondrow\"}).find(\"strike\").text\n",
    "        #Discount % and price\n",
    "            product_discount = container.find(\"div\", {\"class\", \"col search_discount responsive_secondrow\"}).find(\"span\").text\n",
    "            product_price = container.find(\"div\", {\"class\", \"col search_price discounted responsive_secondrow\"}).text\n",
    "            product_discount_price = product_price.split(\"€\", 1)[-1]\n",
    "        except:\n",
    "            print(\"no discount price!\")\n",
    "\n",
    "        #Platforms\n",
    "        product_platform = container.find('div',{'class':'col search_name ellipsis'})\n",
    "        platform_container = product_platform.find('p')\n",
    "        if platform_container.find('span',{'class':'platform_img win'}):\n",
    "            win = \"1\"\n",
    "        else: win = \"0\"\n",
    "        if platform_container.find('span',{'class':'platform_img mac'}):\n",
    "            mac = \"1\"\n",
    "        else: mac = \"0\"\n",
    "        if platform_container.find('span',{'class':'platform_img linux'}):\n",
    "            lin = \"1\"\n",
    "        else: lin = \"0\"\n",
    "\n",
    "        try:\n",
    "            #här hamnar jag try & except därför att alla priser inte har reviews\n",
    "            product_result_details = container.find(\"div\", {\"class\", \"col search_reviewscore responsive_secondrow\"}).find(\"span\")\n",
    "            product_result = product_result_details['data-tooltip-html']\n",
    "\n",
    "            #Rating\n",
    "            product_rating_split = product_result.split(\"%\")[0]\n",
    "            product_rating = product_rating_split.split(\"<br>\")[-1]\n",
    "\n",
    "            #Amount of reviews\n",
    "            product_review_split = product_result.split(\"the \")[-1]\n",
    "            product_review = product_review_split.split(\"user\")[0]\n",
    "        except:\n",
    "            print(\"None\")\n",
    "\n",
    "        f.write(product_title+\"|\"+product_rating+\"% \"+\"|\"+product_review+\"|\"+product_discount+\"|\"+product_discount_price+\"|\"+product_original_price+\"|\"+product_releasedate+\"|\"+win+\"|\"+lin+\"|\"+mac+\"\\n\")\n",
    "        #print(product_result_details)\n"
   ]
  },
  {
   "cell_type": "markdown",
   "metadata": {},
   "source": [
    "# Här är den mer simpla med en hårdkodad url\n",
    "\n",
    "## Bygg urlen och parse den"
   ]
  },
  {
   "cell_type": "code",
   "execution_count": 852,
   "metadata": {},
   "outputs": [],
   "source": [
    "my_url = (\"https://store.steampowered.com/search/?specials=1&page=1\") \n",
    "#print(my_url)\n",
    "    \n",
    "#ladda ner sidan som en klient\n",
    "uClient = uReq(my_url)\n",
    "page_html = uClient.read() #Dumpa rå HTML i en variabel\n",
    "uClient.close()\n",
    "    \n",
    "#Parse HTML\n",
    "page_soup = soup(page_html, \"html.parser\")\n",
    "#print(my_url)"
   ]
  },
  {
   "cell_type": "markdown",
   "metadata": {},
   "source": [
    "## Gör containers variabeln som är hela källkoden inom den givna containern \"div class\"\n",
    "### Sök också alla containers med produktinfo (kålla längden)"
   ]
  },
  {
   "cell_type": "code",
   "execution_count": 853,
   "metadata": {},
   "outputs": [
    {
     "data": {
      "text/plain": [
       "25"
      ]
     },
     "execution_count": 853,
     "metadata": {},
     "output_type": "execute_result"
    }
   ],
   "source": [
    "containers = page_soup.findAll(\"div\", {\"class\":\"responsive_search_name_combined\"})\n",
    "len(containers) #längde containers"
   ]
  },
  {
   "cell_type": "markdown",
   "metadata": {},
   "source": [
    "## Kålla vad som finns i först containern (hjälpmedel för att avläsa koden)"
   ]
  },
  {
   "cell_type": "code",
   "execution_count": 854,
   "metadata": {},
   "outputs": [
    {
     "data": {
      "text/plain": [
       "<div class=\"responsive_search_name_combined\">\n",
       "<div class=\"col search_name ellipsis\">\n",
       "<span class=\"title\">Valley</span>\n",
       "<p>\n",
       "<span class=\"platform_img win\"></span><span class=\"platform_img mac\"></span><span class=\"platform_img linux\"></span> </p>\n",
       "</div>\n",
       "<div class=\"col search_released responsive_secondrow\">24 Aug, 2016</div>\n",
       "<div class=\"col search_reviewscore responsive_secondrow\">\n",
       "<span class=\"search_review_summary positive\" data-tooltip-html=\"Very Positive&lt;br&gt;90% of the 3,297 user reviews for this game are positive.\">\n",
       "</span>\n",
       "</div>\n",
       "<div class=\"col search_price_discount_combined responsive_secondrow\">\n",
       "<div class=\"col search_discount responsive_secondrow\">\n",
       "<span>-90%</span>\n",
       "</div>\n",
       "<div class=\"col search_price discounted responsive_secondrow\">\n",
       "<span style=\"color: #888888;\"><strike>19,99€</strike></span><br/>1,99€\t\t\t\t\t\t\t</div>\n",
       "</div>\n",
       "</div>"
      ]
     },
     "execution_count": 854,
     "metadata": {},
     "output_type": "execute_result"
    }
   ],
   "source": [
    "container = containers[3]\n",
    "container"
   ]
  },
  {
   "cell_type": "markdown",
   "metadata": {},
   "source": [
    "## Hitta variablar med att looppa igenom parsningen\n",
    "\n",
    "### Gör medsamma en filereader för att bygga upp en excell fil av all data"
   ]
  },
  {
   "cell_type": "code",
   "execution_count": 856,
   "metadata": {},
   "outputs": [
    {
     "name": "stdout",
     "output_type": "stream",
     "text": [
      "None\n",
      "None\n",
      "None\n"
     ]
    }
   ],
   "source": [
    "#Spara till csv och namnge filen\n",
    "filename = \"steam.csv\"\n",
    "\n",
    "#Öppna filen i \"writemode\"\n",
    "f = open(filename, \"w\")\n",
    "\n",
    "#Gör en variabel för att fylla på första raden av excell filen\n",
    "headers = \"Title|Rating|#Reviews|Discount%|Discountprice|Originalprice|Releasedate|Windows|Linux|Mac\\n\"\n",
    "f.write(headers)\n",
    "\n",
    "#Looppa igenom hela source-coden \"containers\" och looppa igenom all info\n",
    "for container in containers:\n",
    "    #Title\n",
    "    product_title = container.find(\"span\", {\"class\", \"title\"}).text\n",
    "    \n",
    "    #Release date\n",
    "    product_releasedate = container.find(\"div\",  {\"class\", \"col search_released responsive_secondrow\"}).text    \n",
    "    \n",
    "    try:\n",
    "        #Original price\n",
    "        product_original_price = container.find(\"div\", {\"class\", \"col search_price discounted responsive_secondrow\"}).find(\"strike\").text\n",
    "        \n",
    "        #Discount % and price\n",
    "        product_discount = container.find(\"div\", {\"class\", \"col search_discount responsive_secondrow\"}).find(\"span\").text\n",
    "        product_price = container.find(\"div\", {\"class\", \"col search_price discounted responsive_secondrow\"}).text\n",
    "        product_discount_price = product_price.split(\"€\", 1)[-1]\n",
    "    except:\n",
    "        print(\"No discount!\")\n",
    "    \n",
    "    #Platforms\n",
    "    product_platform = container.find('div',{'class':'col search_name ellipsis'})\n",
    "    platform_container = product_platform.find('p')\n",
    "    if platform_container.find('span',{'class':'platform_img win'}):\n",
    "        win = \"1\"\n",
    "    else: win = \"0\"\n",
    "    if platform_container.find('span',{'class':'platform_img mac'}):\n",
    "        mac = \"1\"\n",
    "    else: mac = \"0\"\n",
    "    if platform_container.find('span',{'class':'platform_img linux'}):\n",
    "        lin = \"1\"\n",
    "    else: lin = \"0\"\n",
    "    \n",
    "    try:\n",
    "        product_result_details = container.find(\"div\", {\"class\", \"col search_reviewscore responsive_secondrow\"}).find(\"span\")\n",
    "        product_result = product_result_details['data-tooltip-html']\n",
    "        \n",
    "        #Rating\n",
    "        product_rating_split = product_result.split(\"%\")[0]\n",
    "        product_rating = product_rating_split.split(\"<br>\")[-1]\n",
    "        \n",
    "        #Amount of reviews\n",
    "        product_review_split = product_result.split(\"the \")[-1]\n",
    "        product_review = product_review_split.split(\"user\")[0]\n",
    "    except:\n",
    "        print(\"None\")\n",
    "     \n",
    "    f.write(product_title+\"|\"+product_rating+\"% \"+\"|\"+product_review+\"|\"+product_discount+\"|\"+product_discount_price+\"|\"+product_original_price+\"|\"+product_releasedate+\"|\"+win+\"|\"+lin+\"|\"+mac+\"\\n\")\n",
    "    #print(product_result_details)\n",
    "    "
   ]
  },
  {
   "cell_type": "markdown",
   "metadata": {},
   "source": [
    "# Slutsatser\n",
    "\n",
    "Uppgifter var mycket lärorik och rolig att göra. Mest hade jag problem med att få u reviews att fungera. Då jag skulle fånga ['data-tooltip-html'], som inte fanns i alla containers. Det gjorde mitt program att crasha och fast jag satte in dem i en try & except, så gav den länge error. \n",
    "\n",
    "Efter jag satt in try & except i min loop så visade den \"None\" vid varje container som saknade reviews, fasten jag sökte efter title eller price. "
   ]
  },
  {
   "cell_type": "code",
   "execution_count": null,
   "metadata": {},
   "outputs": [],
   "source": []
  },
  {
   "cell_type": "code",
   "execution_count": null,
   "metadata": {},
   "outputs": [],
   "source": []
  },
  {
   "cell_type": "code",
   "execution_count": null,
   "metadata": {},
   "outputs": [],
   "source": []
  }
 ],
 "metadata": {
  "kernelspec": {
   "display_name": "Python 3",
   "language": "python",
   "name": "python3"
  },
  "language_info": {
   "codemirror_mode": {
    "name": "ipython",
    "version": 3
   },
   "file_extension": ".py",
   "mimetype": "text/x-python",
   "name": "python",
   "nbconvert_exporter": "python",
   "pygments_lexer": "ipython3",
   "version": "3.7.0"
  }
 },
 "nbformat": 4,
 "nbformat_minor": 2
}
